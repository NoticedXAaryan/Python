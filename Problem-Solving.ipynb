{
 "cells": [
  {
   "cell_type": "markdown",
   "id": "217fbfec-b3ff-475a-930d-f29a29a68024",
   "metadata": {},
   "source": [
    "# PROBLEM SOLVING WITH PYTHON"
   ]
  },
  {
   "cell_type": "markdown",
   "id": "7a6b3bf2-9278-4dc7-ab59-9439070850d3",
   "metadata": {},
   "source": [
    "### What is Problem Solving?"
   ]
  },
  {
   "cell_type": "markdown",
   "id": "44de40f8-899b-4746-9059-bea696903d9b",
   "metadata": {},
   "source": [
    "To explain this, I will give an example,\n",
    "\n",
    "Let’s say there are two people with a great friendship. Let’s name them Aaryan and Vachas. Now, Vachas wants to take a leave, but the other staff are also on leave. So, he is worried about his work in his absence. Aaryan volunteered to do his work in his absence, but he didn't had any past experience. However, both are from a similar field of work. So, Vachas devised a list in which he explained about every single task and also how to do it. Luckily, Vachas’s job wasn’t that hard. So, the list idea worked out, and Vachas got his leave while Aaryan did his work."
   ]
  },
  {
   "cell_type": "markdown",
   "id": "e26bbd50-6729-4823-94d9-cbd0ab195f5b",
   "metadata": {},
   "source": [
    "To Better explaine it we can replace the list of work with an algorithm and Aaryan with machine learning. In this scenario, the algorithm provides detailed instructions about every single task and mainly elaborates how to do it, and machine learning executes the tasks based on the given algorithm."
   ]
  },
  {
   "cell_type": "markdown",
   "id": "893f2300-5ab9-4f68-b0b9-e0349cc9c2c6",
   "metadata": {},
   "source": [
    "### What is Algorithm?"
   ]
  },
  {
   "cell_type": "markdown",
   "id": "ff311d43-8ab4-4aeb-8a22-00fb7774aecc",
   "metadata": {},
   "source": [
    "To put it simply, an algorithm is like a list of tasks, just like in the example above. It provides step-by-step instructions on how to complete a job. This can often be represented visually with a flowchart and textualy through Pseudocode, which helps to clearly outline the process."
   ]
  },
  {
   "cell_type": "markdown",
   "id": "663f9912-7e82-47d4-88bf-6e7ac3e03803",
   "metadata": {},
   "source": [
    "#### Flow Chart and Pseidocode"
   ]
  },
  {
   "cell_type": "markdown",
   "id": "fadadb38-e2d6-466a-9e7c-37100224ab08",
   "metadata": {},
   "source": [
    "The image below shows a basic code for calculating a salary for a worker. In this case, we can see a flowchart and pseudocode, which are two sides of the same coin. You can use either of these methods, but personally, for small projects, use a flowchart, and for bigger ones, use pseudocode. "
   ]
  },
  {
   "cell_type": "markdown",
   "id": "7b6bdfa8-bad3-4acf-8962-9491aef9e554",
   "metadata": {},
   "source": [
    "![Flow Chart](assets/flowchart.jpeg)"
   ]
  },
  {
   "cell_type": "markdown",
   "id": "11a43d6f-ffd2-4b36-a462-a770a81a9f6f",
   "metadata": {},
   "source": [
    " Lets elaburate this in python :"
   ]
  },
  {
   "cell_type": "code",
   "execution_count": 2,
   "id": "66c2e46a-ee64-4125-9382-5c790afefe46",
   "metadata": {},
   "outputs": [
    {
     "name": "stdin",
     "output_type": "stream",
     "text": [
      "Enter no. hours worked :  8\n",
      "Enter hourly pay :  2655\n"
     ]
    },
    {
     "name": "stdout",
     "output_type": "stream",
     "text": [
      "Payment for working 8 hours at the rate of 2655 pre houre will be 21240\n"
     ]
    }
   ],
   "source": [
    "work_hours = int(input(\"Enter no. hours worked : \"))\n",
    "rate_pre_hours = int(input(\"Enter hourly pay : \"))\n",
    "pay_of_worker = work_hours * rate_pre_hours\n",
    "print(\"Payment for working\",work_hours,\"hours at the rate of\",rate_pre_hours,'pre houre will be',pay_of_worker)"
   ]
  },
  {
   "cell_type": "markdown",
   "id": "1a9fb77d-b924-4f71-a292-c5fb926888e4",
   "metadata": {},
   "source": [
    "**Note**: I have taken a simple example, but this can be made infinitely long or short."
   ]
  },
  {
   "cell_type": "markdown",
   "id": "7711283d-1794-49d7-a5b9-cee21cca603e",
   "metadata": {},
   "source": [
    "### Searching values through python"
   ]
  },
  {
   "cell_type": "markdown",
   "id": "c66ce6c0-33a8-4137-af7b-feeae4b45d9d",
   "metadata": {},
   "source": [
    "**Pseudocode for finfing minimum and maximum value** : \\\n",
    "empty list \\\n",
    "take input of number of values\\\n",
    "Set i to 0 \\\n",
    "While i is not equal to n: \n",
    ">    input a value \\\n",
    ">     Append the value to the list \\\n",
    ">     incrase i by 1 \n",
    "\n",
    "print the minimum value in the list "
   ]
  },
  {
   "cell_type": "code",
   "execution_count": 5,
   "id": "095b9209-897c-4e28-aeb0-3300262d6b16",
   "metadata": {},
   "outputs": [
    {
     "name": "stdin",
     "output_type": "stream",
     "text": [
      "Input number of values:  5\n",
      "Input value:  34\n",
      "Input value:  65\n",
      "Input value:  2\n",
      "Input value:  -45\n",
      "Input value:  3456\n"
     ]
    },
    {
     "name": "stdout",
     "output_type": "stream",
     "text": [
      "Minimum Value =  -45\n"
     ]
    }
   ],
   "source": [
    "# this is the answer acording to the above pseudocode :\n",
    "\n",
    "list = []\n",
    "n = int(input(\"Input number of values: \"))\n",
    "for i in range(n):\n",
    "    value = int(input(\"Input value: \"))\n",
    "    list.append(value)\n",
    "min_value = min(list)\n",
    "print(\"Minimum Value = \", min_value)"
   ]
  },
  {
   "cell_type": "code",
   "execution_count": 6,
   "id": "80392bf4-1b2e-4b7e-9ea2-e482e3aabe97",
   "metadata": {},
   "outputs": [
    {
     "name": "stdin",
     "output_type": "stream",
     "text": [
      "Input number of values:  5\n",
      "Input value:  32\n",
      "Input value:  -65\n",
      "Input value:  4\n",
      "Input value:  56\n",
      "Input value:  28\n"
     ]
    },
    {
     "name": "stdout",
     "output_type": "stream",
     "text": [
      "Minimum Value =  -65\n",
      "Index of Minimum Value =  1\n"
     ]
    }
   ],
   "source": [
    "# Personally, we can approach do a brute-forcing fashion to learn somethisng new :]\n",
    "\n",
    "# 1st made a funtion to fetch user difined list\n",
    "def make_list():\n",
    "    list = []\n",
    "    n = int(input(\"Input number of values: \"))\n",
    "    for i in range(n):\n",
    "        value = int(input(\"Input value: \"))\n",
    "        list.append(value)\n",
    "    return list\n",
    "\n",
    "# 2rd difined some variable\n",
    "l = make_list()\n",
    "min_value = l[0]\n",
    "idx = 0\n",
    "\n",
    "# 3rd make a loop to compare and find the lowest value until the list is over.\n",
    "for count in range(len(l)):\n",
    "    v = l[count]\n",
    "    if v < min_value:\n",
    "        min_value = v\n",
    "        idx = count\n",
    "\n",
    "# 4th displays the disiered output\n",
    "print(\"Minimum Value = \", min_value)\n",
    "print(\"Index of Minimum Value = \", idx)\n",
    "    \n",
    "    "
   ]
  },
  {
   "cell_type": "markdown",
   "id": "8374c4bb-6e92-4606-886c-0e5dae8c14cd",
   "metadata": {},
   "source": [
    "### What is shorting problem?"
   ]
  },
  {
   "cell_type": "markdown",
   "id": "307416f0-ad0c-4505-a26d-e73f9c6ffd44",
   "metadata": {},
   "source": [
    "To put it simply, as I usually do,\n",
    "\n",
    "If you ever get stuck in a situation where you want a data set in ascending or descending order, or any configuration you want, this will be the question from your nightmare.\n",
    "\n",
    "To get some better idea lets brute-force this also....."
   ]
  },
  {
   "cell_type": "code",
   "execution_count": null,
   "id": "3fd86f7f-154e-4599-8add-bae5172f02fe",
   "metadata": {},
   "outputs": [],
   "source": [
    "# qution : write  a program to short a list in acending formate\n",
    "\n",
    "# let's call the fuction that we made in previous progarm \n",
    "l = make_list()\n",
    "\n",
    "#\n"
   ]
  },
  {
   "cell_type": "markdown",
   "id": "88a2f321-9724-485f-987d-12398dd76fe9",
   "metadata": {},
   "source": [
    "Or you can ruin the fun by doing like this"
   ]
  },
  {
   "cell_type": "code",
   "execution_count": null,
   "id": "c330d3b3-b895-4809-a7cd-43d119be8294",
   "metadata": {},
   "outputs": [],
   "source": [
    "# Question: Write a program to sort a list in ascending format\n",
    "\n",
    "# Let's call the function that we made in the previous program\n",
    "l = make_list()\n",
    "\n",
    "# Sorting the list in ascending order\n",
    "l.sort()\n",
    "\n",
    "# Printing the sorted list\n",
    "print(\"Sorted list in ascending order:\", l)"
   ]
  }
 ],
 "metadata": {
  "kernelspec": {
   "display_name": "Python 3 (ipykernel)",
   "language": "python",
   "name": "python3"
  },
  "language_info": {
   "codemirror_mode": {
    "name": "ipython",
    "version": 3
   },
   "file_extension": ".py",
   "mimetype": "text/x-python",
   "name": "python",
   "nbconvert_exporter": "python",
   "pygments_lexer": "ipython3",
   "version": "3.12.4"
  }
 },
 "nbformat": 4,
 "nbformat_minor": 5
}
