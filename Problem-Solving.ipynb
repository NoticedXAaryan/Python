{
 "cells": [
  {
   "cell_type": "markdown",
   "id": "217fbfec-b3ff-475a-930d-f29a29a68024",
   "metadata": {},
   "source": [
    "# PROBLEM SOLVING WITH PYTHON"
   ]
  },
  {
   "cell_type": "markdown",
   "id": "7a6b3bf2-9278-4dc7-ab59-9439070850d3",
   "metadata": {},
   "source": [
    "### What is Problem Solving?"
   ]
  },
  {
   "cell_type": "markdown",
   "id": "44de40f8-899b-4746-9059-bea696903d9b",
   "metadata": {},
   "source": [
    "To explain this, I will give an example,\n",
    "\n",
    "Let’s say there are two people with a great friendship. Let’s name them Aaryan and Vachas. Now, Vachas wants to take a leave, but the other staff are also on leave. So, he was worried about the work. Aaryan volunteered to do his work in his absence, but he never had past experience. However, both are from a similar field of work. So, Vachas devised a list in which he explained every single task and how to do it. Luckily, Vachas’s job wasn’t that hard. So, the list idea worked out, and Vachas got his leave while Aaryan did his work."
   ]
  },
  {
   "cell_type": "markdown",
   "id": "e26bbd50-6729-4823-94d9-cbd0ab195f5b",
   "metadata": {},
   "source": [
    "To Better explaine it we can replace the list of work with an algorithm and Aaryan with machine learning. In this scenario, the algorithm provides detailed instructions, and machine learning executes the tasks based on those instructions."
   ]
  },
  {
   "cell_type": "markdown",
   "id": "893f2300-5ab9-4f68-b0b9-e0349cc9c2c6",
   "metadata": {},
   "source": [
    "### What is Algorithm?"
   ]
  },
  {
   "cell_type": "markdown",
   "id": "ff311d43-8ab4-4aeb-8a22-00fb7774aecc",
   "metadata": {},
   "source": [
    "To put it simply, an algorithm is like a list of tasks, just like in the example above. It provides step-by-step instructions on how to complete a job. This can often be represented visually with a flowchart and textualy through Pseudocode, which helps to clearly outline the process."
   ]
  },
  {
   "cell_type": "markdown",
   "id": "663f9912-7e82-47d4-88bf-6e7ac3e03803",
   "metadata": {},
   "source": [
    "#### Flow Chart and Pseidocode"
   ]
  },
  {
   "cell_type": "markdown",
   "id": "fadadb38-e2d6-466a-9e7c-37100224ab08",
   "metadata": {},
   "source": [
    "The image below shows a basic code for calculating a salary for a worker. In this case, we can see a flowchart and pseudocode, which are two sides of the same coin. You can use either of these methods, but personally, for small projects, use a flowchart, and for bigger ones, use pseudocode. "
   ]
  },
  {
   "cell_type": "markdown",
   "id": "7b6bdfa8-bad3-4acf-8962-9491aef9e554",
   "metadata": {},
   "source": [
    "![Flow Chart](assets/flowchart.jpeg)"
   ]
  },
  {
   "cell_type": "markdown",
   "id": "11a43d6f-ffd2-4b36-a462-a770a81a9f6f",
   "metadata": {},
   "source": [
    " Lets elaburate this in python :"
   ]
  },
  {
   "cell_type": "code",
   "execution_count": 2,
   "id": "66c2e46a-ee64-4125-9382-5c790afefe46",
   "metadata": {},
   "outputs": [
    {
     "name": "stdin",
     "output_type": "stream",
     "text": [
      "Enter no. hours worked :  8\n",
      "Enter hourly pay :  2655\n"
     ]
    },
    {
     "name": "stdout",
     "output_type": "stream",
     "text": [
      "Payment for working 8 hours at the rate of 2655 pre houre will be 21240\n"
     ]
    }
   ],
   "source": [
    "work_hours = int(input(\"Enter no. hours worked : \"))\n",
    "rate_pre_hours = int(input(\"Enter hourly pay : \"))\n",
    "pay_of_worker = work_hours * rate_pre_hours\n",
    "print(\"Payment for working\",work_hours,\"hours at the rate of\",rate_pre_hours,'pre houre will be',pay_of_worker)"
   ]
  },
  {
   "cell_type": "markdown",
   "id": "1a9fb77d-b924-4f71-a292-c5fb926888e4",
   "metadata": {},
   "source": [
    "**Note**: I have taken a simple example, but this can be made infinitely long or short."
   ]
  },
  {
   "cell_type": "code",
   "execution_count": null,
   "id": "027eb9ab-c28e-47ac-af6d-89a8911f3b3f",
   "metadata": {},
   "outputs": [],
   "source": []
  }
 ],
 "metadata": {
  "kernelspec": {
   "display_name": "Python 3 (ipykernel)",
   "language": "python",
   "name": "python3"
  },
  "language_info": {
   "codemirror_mode": {
    "name": "ipython",
    "version": 3
   },
   "file_extension": ".py",
   "mimetype": "text/x-python",
   "name": "python",
   "nbconvert_exporter": "python",
   "pygments_lexer": "ipython3",
   "version": "3.12.4"
  }
 },
 "nbformat": 4,
 "nbformat_minor": 5
}
