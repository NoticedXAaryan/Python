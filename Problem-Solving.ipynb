{
 "cells": [
  {
   "cell_type": "markdown",
   "id": "217fbfec-b3ff-475a-930d-f29a29a68024",
   "metadata": {},
   "source": [
    "# PROBLEM SOLVING WITH PYTHON"
   ]
  },
  {
   "cell_type": "markdown",
   "id": "7a6b3bf2-9278-4dc7-ab59-9439070850d3",
   "metadata": {},
   "source": [
    "### What is Problem Solving?"
   ]
  },
  {
   "cell_type": "markdown",
   "id": "44de40f8-899b-4746-9059-bea696903d9b",
   "metadata": {},
   "source": [
    "To explain this, I will give an example,\n",
    "\n",
    "Let’s say there are two people with a great friendship. Let’s name them Aaryan and Vachas. Now, Vachas wants to take a leave, but the other staff are also on leave. So, he was worried about the work. Aaryan volunteered to do his work in his absence, but he never had past experience. However, both are from a similar field of work. So, Vachas devised a list in which he explained every single task and how to do it. Luckily, Vachas’s job wasn’t that hard. So, the list idea worked out, and Vachas got his leave while Aaryan did his work."
   ]
  },
  {
   "cell_type": "markdown",
   "id": "e26bbd50-6729-4823-94d9-cbd0ab195f5b",
   "metadata": {},
   "source": [
    "To Better explaine it we can replace the list of work with an algorithm and Aaryan with machine learning. In this scenario, the algorithm provides detailed instructions, and machine learning executes the tasks based on those instructions."
   ]
  },
  {
   "cell_type": "markdown",
   "id": "893f2300-5ab9-4f68-b0b9-e0349cc9c2c6",
   "metadata": {},
   "source": [
    "### What is Algorithm?"
   ]
  },
  {
   "cell_type": "markdown",
   "id": "ff311d43-8ab4-4aeb-8a22-00fb7774aecc",
   "metadata": {},
   "source": [
    "To put it simply, an algorithm is like a list of tasks, just like in the example above. It provides step-by-step instructions on how to complete a job. This can often be represented visually with a flowchart and textualy through Pseudocode, which helps to clearly outline the process."
   ]
  },
  {
   "cell_type": "markdown",
   "id": "663f9912-7e82-47d4-88bf-6e7ac3e03803",
   "metadata": {},
   "source": [
    "#### Flow Chart and Pseidocode"
   ]
  },
  {
   "cell_type": "markdown",
   "id": "fadadb38-e2d6-466a-9e7c-37100224ab08",
   "metadata": {},
   "source": [
    "The image below shows a basic code for calculating a salary for a worker. In this case, we can see a flowchart and pseudocode, which are two sides of the same coin. You can use either of these methods, but personally, for small projects, use a flowchart, and for bigger ones, use pseudocode. "
   ]
  },
  {
   "cell_type": "markdown",
   "id": "7b6bdfa8-bad3-4acf-8962-9491aef9e554",
   "metadata": {},
   "source": [
    "![Flow Chart](assets/flowchart.jpeg)"
   ]
  },
  {
   "cell_type": "markdown",
   "id": "11a43d6f-ffd2-4b36-a462-a770a81a9f6f",
   "metadata": {},
   "source": [
    " Lets elaburate this in python :"
   ]
  },
  {
   "cell_type": "code",
   "execution_count": 2,
   "id": "66c2e46a-ee64-4125-9382-5c790afefe46",
   "metadata": {},
   "outputs": [
    {
     "name": "stdin",
     "output_type": "stream",
     "text": [
      "Enter no. hours worked :  8\n",
      "Enter hourly pay :  2655\n"
     ]
    },
    {
     "name": "stdout",
     "output_type": "stream",
     "text": [
      "Payment for working 8 hours at the rate of 2655 pre houre will be 21240\n"
     ]
    }
   ],
   "source": [
    "work_hours = int(input(\"Enter no. hours worked : \"))\n",
    "rate_pre_hours = int(input(\"Enter hourly pay : \"))\n",
    "pay_of_worker = work_hours * rate_pre_hours\n",
    "print(\"Payment for working\",work_hours,\"hours at the rate of\",rate_pre_hours,'pre houre will be',pay_of_worker)"
   ]
  },
  {
   "cell_type": "markdown",
   "id": "1a9fb77d-b924-4f71-a292-c5fb926888e4",
   "metadata": {},
   "source": [
    "**Note**: I have taken a simple example, but this can be made infinitely long or short."
   ]
  },
  {
   "cell_type": "markdown",
   "id": "7711283d-1794-49d7-a5b9-cee21cca603e",
   "metadata": {},
   "source": [
    "### Searching values through python"
   ]
  },
  {
   "cell_type": "markdown",
   "id": "c66ce6c0-33a8-4137-af7b-feeae4b45d9d",
   "metadata": {},
   "source": [
    "**Pseudocode for finfing minimum and maximum value** :\n",
    "- empty list\n",
    "- take input of number of values\n",
    "- Set i to 0\n",
    "- While i is not equal to n:\n",
    "-     input a value\n",
    "-     Append the value to the list\n",
    "-    incrase i by 1\n",
    "- print the minimum value in the list\n",
    "- print the maximum value in the list"
   ]
  },
  {
   "cell_type": "code",
   "execution_count": 3,
   "id": "c12ae9b1-3095-4cb7-b090-8bb5e7b4ab7d",
   "metadata": {},
   "outputs": [],
   "source": [
    "#made a funtion to fetch values\n",
    "def make_list():\n",
    "    list = []\n",
    "    n = int(input(\"Input number of values: \"))\n",
    "    for i in range(n):\n",
    "        value = int(input(\"Input value: \"))\n",
    "        list.append(value)\n",
    "    return list"
   ]
  },
  {
   "cell_type": "code",
   "execution_count": 10,
   "id": "095b9209-897c-4e28-aeb0-3300262d6b16",
   "metadata": {},
   "outputs": [
    {
     "name": "stdin",
     "output_type": "stream",
     "text": [
      "Input number of values:  2\n",
      "Input value:  34\n",
      "Input value:  23\n"
     ]
    },
    {
     "name": "stdout",
     "output_type": "stream",
     "text": [
      "Minimum Value =  23\n",
      "Index of Minimum Value =  1\n"
     ]
    }
   ],
   "source": [
    "#\n",
    "l = make_list()\n",
    "\n",
    "min_value = l[0]\n",
    "idx = 0\n",
    "\n",
    "for count in range(len(l)):\n",
    "    v = l[count]\n",
    "    if v < min_value:\n",
    "        min_value = v\n",
    "        idx = count\n",
    "\n",
    "print(\"Minimum Value = \", min_value)\n",
    "print(\"Index of Minimum Value = \", idx)\n",
    "    \n",
    "    "
   ]
  },
  {
   "cell_type": "code",
   "execution_count": 14,
   "id": "818961ca-146e-4b6d-ae88-74f1e7b4dd73",
   "metadata": {},
   "outputs": [
    {
     "name": "stdin",
     "output_type": "stream",
     "text": [
      "Input number of values:  3\n",
      "Input value:  2123\n",
      "Input value:  34\n",
      "Input value:  24\n"
     ]
    },
    {
     "ename": "TypeError",
     "evalue": "'int' object is not callable",
     "output_type": "error",
     "traceback": [
      "\u001b[0;31m---------------------------------------------------------------------------\u001b[0m",
      "\u001b[0;31mTypeError\u001b[0m                                 Traceback (most recent call last)",
      "Cell \u001b[0;32mIn[14], line 3\u001b[0m\n\u001b[1;32m      1\u001b[0m \u001b[38;5;66;03m#\u001b[39;00m\n\u001b[1;32m      2\u001b[0m l \u001b[38;5;241m=\u001b[39m make_list()\n\u001b[0;32m----> 3\u001b[0m min_value \u001b[38;5;241m=\u001b[39m \u001b[38;5;28mmin\u001b[39m(l)\n\u001b[1;32m      4\u001b[0m \u001b[38;5;28mprint\u001b[39m(\u001b[38;5;124m\"\u001b[39m\u001b[38;5;124mMinimum Value = \u001b[39m\u001b[38;5;124m\"\u001b[39m, min_value)\n",
      "\u001b[0;31mTypeError\u001b[0m: 'int' object is not callable"
     ]
    }
   ],
   "source": [
    "#\n",
    "l = make_list()\n",
    "min_value = min(l)\n",
    "print(\"Minimum Value = \", min_value)"
   ]
  },
  {
   "cell_type": "code",
   "execution_count": null,
   "id": "791f61d4-a5eb-4ae8-a122-967f1b1bb347",
   "metadata": {},
   "outputs": [],
   "source": []
  }
 ],
 "metadata": {
  "kernelspec": {
   "display_name": "Python 3 (ipykernel)",
   "language": "python",
   "name": "python3"
  },
  "language_info": {
   "codemirror_mode": {
    "name": "ipython",
    "version": 3
   },
   "file_extension": ".py",
   "mimetype": "text/x-python",
   "name": "python",
   "nbconvert_exporter": "python",
   "pygments_lexer": "ipython3",
   "version": "3.12.4"
  }
 },
 "nbformat": 4,
 "nbformat_minor": 5
}
