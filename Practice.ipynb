{
 "cells": [
  {
   "cell_type": "code",
   "execution_count": null,
   "id": "4a0079b5-305a-4e25-a42c-d51bd12e7570",
   "metadata": {},
   "outputs": [],
   "source": [
    "print(\"Hello Visitor !\")"
   ]
  }
 ],
 "metadata": {
  "kernelspec": {
   "display_name": "Python 3 (ipykernel)",
   "language": "python",
   "name": "python3"
  },
  "language_info": {
   "codemirror_mode": {
    "name": "ipython",
    "version": 3
   },
   "file_extension": ".py",
   "mimetype": "text/x-python",
   "name": "python",
   "nbconvert_exporter": "python",
   "pygments_lexer": "ipython3",
   "version": "3.12.4"
  }
 },
 "nbformat": 4,
 "nbformat_minor": 5
}
