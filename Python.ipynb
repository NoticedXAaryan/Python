{
 "cells": [
  {
   "cell_type": "markdown",
   "id": "8ee60403-72b9-4ebd-aa92-76cd380f484f",
   "metadata": {},
   "source": [
    "# PYTHON"
   ]
  },
  {
   "cell_type": "markdown",
   "id": "ee8bf0c9-717a-425f-9df6-5df1aaac2b5e",
   "metadata": {},
   "source": [
    "Going by textbook defination, \\\n",
    "Python is a high-level, interpreted programming language known for its simplicity and readability. It supports multiple programming paradigms, including procedural, object-oriented, and functional programming. Python's dynamic typing and built-in data structures make it ideal for rapid application development and as a scripting language to connect existing components.\n",
    "\n",
    "You can vist these website to get a better understanding :\n",
    "\n",
    "(1) Python.org (https://www.python.org/doc/essays/blurb/) \\\n",
    "(2) GeeksforGeeks (https://www.geeksforgeeks.org/introduction-to-python/)"
   ]
  },
  {
   "cell_type": "markdown",
   "id": "24104d62-c66a-42e0-8628-c002ce82c20f",
   "metadata": {},
   "source": [
    "### What is an IDE \\ IDLE ?"
   ]
  },
  {
   "cell_type": "markdown",
   "id": "cf3e0e4f-9630-4344-8f19-548652c3aad0",
   "metadata": {},
   "source": [
    "In textbook way, \\\n",
    "IDLE stands for **Integrated Development and Learning Environment**. It's an integrated development environment (IDE) for Python, designed to be simple and user-friendly, especially for beginners.\n",
    "\n",
    "some key features of IDLE:\n",
    "- **Interactive Shell**: Allows you to execute Python commands and see the results immediately.\n",
    "- **Text Editor**: Provides syntax highlighting, autocompletion, and smart indentation to help you write Python code efficiently.\n",
    "- **Debugger**: Includes features like stepping through code, setting breakpoints, and viewing the call stack.\n",
    "\n",
    "A great way to imagine it is you can think of IDE or IDLE as a canvas that helps you express your work in Python or any language. It provides all the tools you need to write, test, and debug your code, making your life easier."
   ]
  },
  {
   "cell_type": "markdown",
   "id": "570a53e9-63cb-457f-adb2-bf8c0ed344ee",
   "metadata": {},
   "source": [
    "###### NOTE : **You can download Jupyter note book through following this link** (https://docs.jupyter.org/en/latest/install/notebook-classic.html)"
   ]
  },
  {
   "cell_type": "markdown",
   "id": "cf2f5ef8-253d-439d-a1b8-50e05589e245",
   "metadata": {},
   "source": [
    "### After setup "
   ]
  },
  {
   "cell_type": "markdown",
   "id": "e26715c5-1ac8-4082-85cd-0e88843d43dc",
   "metadata": {},
   "source": [
    "There are 2 type of line's in jupyter notebook"
   ]
  },
  {
   "cell_type": "markdown",
   "id": "1e32e390-3e10-4a7f-8fb3-aeda0b9b4ea2",
   "metadata": {},
   "source": [
    "**Markdown**: In which you can enter text"
   ]
  },
  {
   "cell_type": "code",
   "execution_count": 3,
   "id": "659d699e-bd7f-46cc-a412-aac56f6993c9",
   "metadata": {},
   "outputs": [],
   "source": [
    "# Code : In which you can write your program"
   ]
  },
  {
   "cell_type": "markdown",
   "id": "ea3050cf-e243-44da-95a3-8a351aef713e",
   "metadata": {},
   "source": [
    "you can see all the short cut by going into Help (in the top line) then show keyboard shortcut. and you can use other options to solve your dobut."
   ]
  },
  {
   "cell_type": "markdown",
   "id": "b8d3c6eb-3a65-4f9d-88f6-2366f3ea42ad",
   "metadata": {},
   "source": [
    "## Getting started with Python"
   ]
  },
  {
   "cell_type": "markdown",
   "id": "986d6d53-9300-4125-827a-dba5f4b71526",
   "metadata": {},
   "source": []
  },
  {
   "cell_type": "markdown",
   "id": "ebc46f36-4e21-407d-8408-c1db83807466",
   "metadata": {},
   "source": [
    "#### Variabe"
   ]
  },
  {
   "cell_type": "markdown",
   "id": "3b602cea-1666-4b64-9eac-47aff08b2122",
   "metadata": {},
   "source": []
  },
  {
   "cell_type": "code",
   "execution_count": 5,
   "id": "9067d6c4-575e-43cd-8735-2768fd83a3fa",
   "metadata": {},
   "outputs": [],
   "source": [
    "a = 10\n",
    "b = 10.005\n",
    "c = \"Hi\"\n",
    "d = a + 5j\n",
    "e = [1,2,3,4,5]"
   ]
  },
  {
   "cell_type": "code",
   "execution_count": 6,
   "id": "60ed74fa-0464-4b1c-9811-8b255915acfb",
   "metadata": {},
   "outputs": [
    {
     "name": "stdout",
     "output_type": "stream",
     "text": [
      "10 <class 'int'>\n",
      "10.005 <class 'float'>\n",
      "Hi <class 'str'>\n",
      "(10+5j) <class 'complex'>\n",
      "[1, 2, 3, 4, 5] <class 'list'>\n"
     ]
    }
   ],
   "source": [
    "print(a,type(a))\n",
    "print(b,type(b))\n",
    "print(c,type(c))\n",
    "print(d,type(d))\n",
    "print(e,type(e))"
   ]
  },
  {
   "cell_type": "code",
   "execution_count": 7,
   "id": "832f8377-c5e3-45eb-80d2-b5d7c816c89a",
   "metadata": {},
   "outputs": [
    {
     "name": "stdout",
     "output_type": "stream",
     "text": [
      "NamespaceMagics\t a\t b\t c\t d\t e\t get_ipython\t json\t sys\t \n",
      "\n"
     ]
    }
   ],
   "source": [
    "%who"
   ]
  },
  {
   "cell_type": "code",
   "execution_count": 8,
   "id": "800c9301-e4e8-4b80-b146-ade46e7b4eb8",
   "metadata": {},
   "outputs": [],
   "source": [
    "del(a,b,c,d)"
   ]
  },
  {
   "cell_type": "code",
   "execution_count": 9,
   "id": "04d09d05-d54a-46f0-8e2e-0dd501c67a9b",
   "metadata": {},
   "outputs": [
    {
     "name": "stdout",
     "output_type": "stream",
     "text": [
      "NamespaceMagics\t e\t get_ipython\t json\t sys\t \n"
     ]
    }
   ],
   "source": [
    "%who"
   ]
  },
  {
   "cell_type": "markdown",
   "id": "b4c88c38-a2ea-4bc6-83f3-59b17d9238aa",
   "metadata": {},
   "source": [
    "#### Operator's in Python"
   ]
  },
  {
   "cell_type": "code",
   "execution_count": 10,
   "id": "14a3a7d9-d2de-421f-8807-cabd498e29e9",
   "metadata": {},
   "outputs": [
    {
     "name": "stdout",
     "output_type": "stream",
     "text": [
      "100\n"
     ]
    }
   ],
   "source": [
    "# Addition\n",
    "print( 10 + 90 )"
   ]
  },
  {
   "cell_type": "code",
   "execution_count": 11,
   "id": "51cddc45-ae40-4881-8503-ddc933e8ba44",
   "metadata": {},
   "outputs": [
    {
     "name": "stdout",
     "output_type": "stream",
     "text": [
      "20\n"
     ]
    }
   ],
   "source": [
    "# Subtraction\n",
    "print( 50 - 30 )"
   ]
  },
  {
   "cell_type": "code",
   "execution_count": 12,
   "id": "6dcf2f73-58de-4de2-8028-e199c3a08c84",
   "metadata": {},
   "outputs": [
    {
     "name": "stdout",
     "output_type": "stream",
     "text": [
      "20.0\n"
     ]
    }
   ],
   "source": [
    "# Division (floting point output)\n",
    "print( 100 / 5 )"
   ]
  },
  {
   "cell_type": "code",
   "execution_count": 13,
   "id": "0f3fd5fd-31a3-489f-a153-49f75e2a667e",
   "metadata": {},
   "outputs": [
    {
     "name": "stdout",
     "output_type": "stream",
     "text": [
      "1\n"
     ]
    }
   ],
   "source": [
    "# Mod \\ Remander\n",
    "print( 50 % 7 )"
   ]
  },
  {
   "cell_type": "code",
   "execution_count": 14,
   "id": "db363460-78c1-41ab-8da4-3e7ab1b37385",
   "metadata": {},
   "outputs": [
    {
     "name": "stdout",
     "output_type": "stream",
     "text": [
      "100\n"
     ]
    }
   ],
   "source": [
    "# Multiplecation\n",
    "print( 5 * 20 )"
   ]
  },
  {
   "cell_type": "code",
   "execution_count": 15,
   "id": "172c0e02-e0cf-4f2a-ba10-daddc0be4266",
   "metadata": {},
   "outputs": [
    {
     "name": "stdout",
     "output_type": "stream",
     "text": [
      "14\n"
     ]
    }
   ],
   "source": [
    "# Division (integer output)\n",
    "print( 100 // 7 )"
   ]
  },
  {
   "cell_type": "code",
   "execution_count": 16,
   "id": "b53684dd-149f-4bff-94c4-4ef78fb09794",
   "metadata": {},
   "outputs": [
    {
     "name": "stdout",
     "output_type": "stream",
     "text": [
      "16\n"
     ]
    }
   ],
   "source": [
    "# Power\n",
    "print( 2**4 )"
   ]
  },
  {
   "cell_type": "markdown",
   "id": "cf5a2f9a-88f7-43f6-aae8-81b57f9c6ed9",
   "metadata": {},
   "source": [
    "#### Something extra"
   ]
  },
  {
   "cell_type": "code",
   "execution_count": 17,
   "id": "7aba1c6e-f685-46d7-a1a8-f9d38af84084",
   "metadata": {},
   "outputs": [
    {
     "name": "stdout",
     "output_type": "stream",
     "text": [
      "12345\n",
      "[{\"varName\": \"e\", \"varType\": \"list\", \"varSize\": \"104\", \"varShape\": \"5\", \"varContent\": \"[1, 2, 3, 4, 5]\", \"isMatrix\": true, \"isWidget\": false}]\n"
     ]
    }
   ],
   "source": [
    "# \n",
    "Hi = 12345\n",
    "print(Hi)\n",
    "print(_)"
   ]
  },
  {
   "cell_type": "markdown",
   "id": "9c552372-03a7-4d8f-90a7-28d1675d111b",
   "metadata": {},
   "source": [
    "### Boolean"
   ]
  },
  {
   "cell_type": "code",
   "execution_count": 18,
   "id": "ca4fd341-95e9-4bc2-8d45-cb9e04ab0a24",
   "metadata": {},
   "outputs": [],
   "source": [
    "t = True\n",
    "f = False"
   ]
  },
  {
   "cell_type": "code",
   "execution_count": 19,
   "id": "14c54594-004e-4276-8bf2-072a3ad9685c",
   "metadata": {},
   "outputs": [
    {
     "name": "stdout",
     "output_type": "stream",
     "text": [
      "False\n"
     ]
    }
   ],
   "source": [
    "print( t and f )"
   ]
  },
  {
   "cell_type": "code",
   "execution_count": 20,
   "id": "12f829b1-d68f-4226-9b06-df8dd970a7dd",
   "metadata": {},
   "outputs": [
    {
     "name": "stdout",
     "output_type": "stream",
     "text": [
      "True\n"
     ]
    }
   ],
   "source": [
    "print( t and t )"
   ]
  },
  {
   "cell_type": "code",
   "execution_count": 21,
   "id": "fdb790c7-2648-4abc-9690-bbcf0194000c",
   "metadata": {},
   "outputs": [
    {
     "name": "stdout",
     "output_type": "stream",
     "text": [
      "False\n"
     ]
    }
   ],
   "source": [
    "print( f and t )"
   ]
  },
  {
   "cell_type": "code",
   "execution_count": 22,
   "id": "6ea5d43c-f232-4d98-af41-ccb6092e6f46",
   "metadata": {},
   "outputs": [
    {
     "name": "stdout",
     "output_type": "stream",
     "text": [
      "False\n"
     ]
    }
   ],
   "source": [
    "print( f and f )"
   ]
  },
  {
   "cell_type": "code",
   "execution_count": 23,
   "id": "6763ea70-db5b-4c7f-bb27-fb157606c22b",
   "metadata": {},
   "outputs": [
    {
     "name": "stdout",
     "output_type": "stream",
     "text": [
      "True\n"
     ]
    }
   ],
   "source": [
    "print( t or f )"
   ]
  },
  {
   "cell_type": "code",
   "execution_count": 24,
   "id": "cc4b8682-e2e4-4d8b-b7a8-2a887bae152f",
   "metadata": {},
   "outputs": [
    {
     "name": "stdout",
     "output_type": "stream",
     "text": [
      "True\n"
     ]
    }
   ],
   "source": [
    "print( t or t )"
   ]
  },
  {
   "cell_type": "code",
   "execution_count": 25,
   "id": "3ea9b67f-55f2-48d4-8760-038167676675",
   "metadata": {},
   "outputs": [
    {
     "name": "stdout",
     "output_type": "stream",
     "text": [
      "True\n"
     ]
    }
   ],
   "source": [
    "print( f or t )"
   ]
  },
  {
   "cell_type": "code",
   "execution_count": 26,
   "id": "61f7da86-228c-490e-981f-cd47221095e6",
   "metadata": {},
   "outputs": [
    {
     "name": "stdout",
     "output_type": "stream",
     "text": [
      "False\n"
     ]
    }
   ],
   "source": [
    "print( f or f )"
   ]
  },
  {
   "cell_type": "code",
   "execution_count": 27,
   "id": "0da58760-b3d4-43ae-a0f3-d8b9521e5fc8",
   "metadata": {},
   "outputs": [
    {
     "ename": "SyntaxError",
     "evalue": "invalid syntax (4045612448.py, line 1)",
     "output_type": "error",
     "traceback": [
      "\u001b[0;36m  Cell \u001b[0;32mIn[27], line 1\u001b[0;36m\u001b[0m\n\u001b[0;31m    print( t not f ) #Just for refence this will not work,if you disagree try runing the logic somewhare else....\u001b[0m\n\u001b[0m                 ^\u001b[0m\n\u001b[0;31mSyntaxError\u001b[0m\u001b[0;31m:\u001b[0m invalid syntax\n"
     ]
    }
   ],
   "source": [
    "print( t not f ) #Just for refence this will not work,if you disagree try runing the logic somewhare else...."
   ]
  },
  {
   "cell_type": "code",
   "execution_count": 28,
   "id": "18d3e625-0dfa-4dd2-94aa-57ba2f3fc24b",
   "metadata": {},
   "outputs": [
    {
     "name": "stdout",
     "output_type": "stream",
     "text": [
      "True\n"
     ]
    }
   ],
   "source": [
    "print( t or t )"
   ]
  },
  {
   "cell_type": "code",
   "execution_count": 29,
   "id": "473defaa-591c-4502-978c-06b10ebf0ce8",
   "metadata": {},
   "outputs": [
    {
     "name": "stdout",
     "output_type": "stream",
     "text": [
      "True\n"
     ]
    }
   ],
   "source": [
    "print( f or t )"
   ]
  },
  {
   "cell_type": "code",
   "execution_count": 30,
   "id": "6966ad8a-d4ce-41b8-a2b9-7f284284419a",
   "metadata": {},
   "outputs": [
    {
     "name": "stdout",
     "output_type": "stream",
     "text": [
      "False\n"
     ]
    }
   ],
   "source": [
    "print( f or f )"
   ]
  },
  {
   "cell_type": "markdown",
   "id": "a8ea2fa8-4fcd-485e-b2b3-ca137ea38b95",
   "metadata": {},
   "source": [
    "### Comparision Oprators"
   ]
  },
  {
   "cell_type": "code",
   "execution_count": 31,
   "id": "7acf20c0-c70e-4de1-9611-49bc051f8e16",
   "metadata": {},
   "outputs": [
    {
     "name": "stdout",
     "output_type": "stream",
     "text": [
      "True\n"
     ]
    }
   ],
   "source": [
    "print( 10 == 10 )"
   ]
  },
  {
   "cell_type": "code",
   "execution_count": 32,
   "id": "35c8fa7d-c04a-4b4a-939b-a4b129b39f89",
   "metadata": {},
   "outputs": [
    {
     "name": "stdout",
     "output_type": "stream",
     "text": [
      "False\n"
     ]
    }
   ],
   "source": [
    "print( 10 != 10 )"
   ]
  },
  {
   "cell_type": "code",
   "execution_count": 33,
   "id": "d41636a9-8110-44ce-b2fa-18411a187d03",
   "metadata": {},
   "outputs": [
    {
     "name": "stdout",
     "output_type": "stream",
     "text": [
      "False\n"
     ]
    }
   ],
   "source": [
    "print( 10 < 10 )"
   ]
  },
  {
   "cell_type": "code",
   "execution_count": 34,
   "id": "b230b8e6-e5fd-42ae-aed9-4795094ec21f",
   "metadata": {},
   "outputs": [
    {
     "name": "stdout",
     "output_type": "stream",
     "text": [
      "False\n"
     ]
    }
   ],
   "source": [
    "print( 10 > 10 )"
   ]
  },
  {
   "cell_type": "code",
   "execution_count": 35,
   "id": "3524cd15-087c-447a-8e5c-e80dce7ba83d",
   "metadata": {},
   "outputs": [
    {
     "name": "stdout",
     "output_type": "stream",
     "text": [
      "True\n"
     ]
    }
   ],
   "source": [
    "print( 10 <= 10 )"
   ]
  },
  {
   "cell_type": "code",
   "execution_count": 36,
   "id": "5b44483e-8dc8-4efb-93d0-861cf0f22e64",
   "metadata": {},
   "outputs": [
    {
     "name": "stdout",
     "output_type": "stream",
     "text": [
      "True\n"
     ]
    }
   ],
   "source": [
    "print( 10 >= 10 )"
   ]
  },
  {
   "cell_type": "code",
   "execution_count": 37,
   "id": "5ede38f6-ce30-4bf8-bfb8-cbc6fdb9e0ee",
   "metadata": {},
   "outputs": [
    {
     "name": "stdout",
     "output_type": "stream",
     "text": [
      "150\n",
      "100\n",
      "1000\n",
      "100.0\n"
     ]
    }
   ],
   "source": [
    "# One more extra thing is that you can add the thins to make your programing efficeant...\n",
    "x = 100\n",
    "\n",
    "x += 50\n",
    "print(x)\n",
    "x -= 50\n",
    "print(x)\n",
    "x *= 10\n",
    "print(x)\n",
    "x /= 10\n",
    "print(x)\n",
    "# And you can try this with other oprator so to make it more well sutted to your need .... "
   ]
  },
  {
   "cell_type": "markdown",
   "id": "ef98a292-5d47-43cc-ae1d-c24af807e45f",
   "metadata": {},
   "source": [
    "##### Some Question's"
   ]
  },
  {
   "cell_type": "code",
   "execution_count": 38,
   "id": "03aab4b7-c697-4531-b19b-b67e6323c95b",
   "metadata": {},
   "outputs": [
    {
     "name": "stdout",
     "output_type": "stream",
     "text": [
      "False\n"
     ]
    }
   ],
   "source": [
    "print(( not ( 2 != 3 ) and True ) or ( False and True ) )"
   ]
  },
  {
   "cell_type": "code",
   "execution_count": null,
   "id": "6d7e8391-2166-47cc-b18d-839519877a52",
   "metadata": {},
   "outputs": [],
   "source": []
  },
  {
   "cell_type": "code",
   "execution_count": null,
   "id": "fff9c3bb-a3ab-4a7f-967d-9d95a27a9d74",
   "metadata": {},
   "outputs": [],
   "source": []
  },
  {
   "cell_type": "code",
   "execution_count": null,
   "id": "87fac8f0-83a1-4e3b-9bb7-5d367aff650f",
   "metadata": {},
   "outputs": [],
   "source": []
  },
  {
   "cell_type": "code",
   "execution_count": null,
   "id": "deff2b73-56d4-493e-8a53-471fec54b387",
   "metadata": {},
   "outputs": [],
   "source": []
  },
  {
   "cell_type": "code",
   "execution_count": null,
   "id": "976a5031-6ffb-4089-b441-c4d2e73c92b7",
   "metadata": {},
   "outputs": [],
   "source": []
  },
  {
   "cell_type": "code",
   "execution_count": null,
   "id": "66c2b318-fc2e-4915-9535-bf21cfea9786",
   "metadata": {},
   "outputs": [],
   "source": []
  },
  {
   "cell_type": "markdown",
   "id": "f5a03cc5-658f-4465-98e7-0e89f13c79f1",
   "metadata": {},
   "source": [
    "### In-build Function's "
   ]
  },
  {
   "cell_type": "markdown",
   "id": "7667c4b5-0abb-4891-acf8-02659665f7e4",
   "metadata": {},
   "source": [
    "**round()**"
   ]
  },
  {
   "cell_type": "code",
   "execution_count": 39,
   "id": "b8ef9424-aa17-4cde-a373-eea5bf759ff7",
   "metadata": {},
   "outputs": [
    {
     "data": {
      "text/plain": [
       "\u001b[0;31mSignature:\u001b[0m \u001b[0mround\u001b[0m\u001b[0;34m(\u001b[0m\u001b[0mnumber\u001b[0m\u001b[0;34m,\u001b[0m \u001b[0mndigits\u001b[0m\u001b[0;34m=\u001b[0m\u001b[0;32mNone\u001b[0m\u001b[0;34m)\u001b[0m\u001b[0;34m\u001b[0m\u001b[0;34m\u001b[0m\u001b[0m\n",
       "\u001b[0;31mDocstring:\u001b[0m\n",
       "Round a number to a given precision in decimal digits.\n",
       "\n",
       "The return value is an integer if ndigits is omitted or None.  Otherwise\n",
       "the return value has the same type as the number.  ndigits may be negative.\n",
       "\u001b[0;31mType:\u001b[0m      builtin_function_or_method"
      ]
     },
     "metadata": {},
     "output_type": "display_data"
    }
   ],
   "source": [
    "round??"
   ]
  },
  {
   "cell_type": "code",
   "execution_count": 40,
   "id": "2e8fed5e-70b9-4a32-b96a-24f4f659a8f3",
   "metadata": {},
   "outputs": [
    {
     "name": "stdout",
     "output_type": "stream",
     "text": [
      "5\n",
      "4.56\n"
     ]
    }
   ],
   "source": [
    "print(round( 4.56347436 ))\n",
    "print(round( 4.56347436 , 2 ))"
   ]
  },
  {
   "cell_type": "markdown",
   "id": "cefd373e-34e6-4e9c-aa11-faa400310422",
   "metadata": {},
   "source": [
    "**divmod()**"
   ]
  },
  {
   "cell_type": "code",
   "execution_count": 41,
   "id": "e29cc3d9-e74c-4c34-8513-fb4b8d726be5",
   "metadata": {},
   "outputs": [
    {
     "data": {
      "text/plain": [
       "\u001b[0;31mSignature:\u001b[0m \u001b[0mdivmod\u001b[0m\u001b[0;34m(\u001b[0m\u001b[0mx\u001b[0m\u001b[0;34m,\u001b[0m \u001b[0my\u001b[0m\u001b[0;34m,\u001b[0m \u001b[0;34m/\u001b[0m\u001b[0;34m)\u001b[0m\u001b[0;34m\u001b[0m\u001b[0;34m\u001b[0m\u001b[0m\n",
       "\u001b[0;31mDocstring:\u001b[0m Return the tuple (x//y, x%y).  Invariant: div*y + mod == x.\n",
       "\u001b[0;31mType:\u001b[0m      builtin_function_or_method"
      ]
     },
     "metadata": {},
     "output_type": "display_data"
    }
   ],
   "source": [
    "divmod??"
   ]
  },
  {
   "cell_type": "code",
   "execution_count": 42,
   "id": "c7704b3a-0a5d-4af3-b482-ff57641230fa",
   "metadata": {},
   "outputs": [
    {
     "ename": "TypeError",
     "evalue": "divmod expected 2 arguments, got 0",
     "output_type": "error",
     "traceback": [
      "\u001b[0;31m---------------------------------------------------------------------------\u001b[0m",
      "\u001b[0;31mTypeError\u001b[0m                                 Traceback (most recent call last)",
      "Cell \u001b[0;32mIn[42], line 1\u001b[0m\n\u001b[0;32m----> 1\u001b[0m \u001b[38;5;28mprint\u001b[39m(\u001b[38;5;28mdivmod\u001b[39m(  ))\n",
      "\u001b[0;31mTypeError\u001b[0m: divmod expected 2 arguments, got 0"
     ]
    }
   ],
   "source": [
    "print(divmod(  ))"
   ]
  },
  {
   "cell_type": "markdown",
   "id": "e7d6580a-eaa6-4054-b350-7a4d84edddb0",
   "metadata": {},
   "source": [
    "**isinstance()**"
   ]
  },
  {
   "cell_type": "markdown",
   "id": "64532b91-a514-46f3-9efe-9bfa36db48f5",
   "metadata": {},
   "source": [
    "**pow()**"
   ]
  },
  {
   "cell_type": "markdown",
   "id": "ad6f2051-7b70-47c4-b2c4-5977043472ed",
   "metadata": {},
   "source": [
    "**min()**"
   ]
  },
  {
   "cell_type": "markdown",
   "id": "96764dbd-e17f-489b-a476-bb975f414388",
   "metadata": {},
   "source": [
    "**max()**"
   ]
  },
  {
   "cell_type": "markdown",
   "id": "12145bcc-d315-4cee-9d4d-3f116ccd12b7",
   "metadata": {},
   "source": [
    "**avg()**"
   ]
  },
  {
   "cell_type": "markdown",
   "id": "8975e9be-7cd5-464f-b289-e4994198492e",
   "metadata": {},
   "source": [
    "**input()**"
   ]
  },
  {
   "cell_type": "markdown",
   "id": "3f2f88a8-4e12-4c76-b882-0240ed37d683",
   "metadata": {},
   "source": [
    "There are plenty more in python ....."
   ]
  },
  {
   "cell_type": "markdown",
   "id": "c5752518-a0d3-49ea-b8b5-14566d0a1f5d",
   "metadata": {},
   "source": [
    "**In case of a dubut use :** function_name? or function_name?? or help(function_name)"
   ]
  },
  {
   "cell_type": "markdown",
   "id": "bbe3cba2-b67e-4a8c-9586-d77553adb620",
   "metadata": {},
   "source": [
    "### Flow control"
   ]
  },
  {
   "cell_type": "markdown",
   "id": "2e363a59-9d01-4731-a1dc-eed6d5b44c7e",
   "metadata": {},
   "source": [
    "**if,elif and else**"
   ]
  },
  {
   "cell_type": "markdown",
   "id": "5620ff04-0d0d-4f98-a600-e8e107cc6d68",
   "metadata": {},
   "source": [
    "Q : Take a and b as a input and print what whoever is bigger."
   ]
  },
  {
   "cell_type": "code",
   "execution_count": 44,
   "id": "b2078172-7b0f-40cf-b055-f771f9ba0876",
   "metadata": {},
   "outputs": [
    {
     "name": "stdin",
     "output_type": "stream",
     "text": [
      "Enter a =  -5\n",
      "Enter b =  234\n"
     ]
    },
    {
     "name": "stdout",
     "output_type": "stream",
     "text": [
      "b is greater then a\n"
     ]
    }
   ],
   "source": [
    "a = int(input(\"Enter a = \"))\n",
    "b = int(input(\"Enter b = \"))\n",
    "if a > b :\n",
    "    print(\"a is greater then b\")\n",
    "elif a < b:\n",
    "    print(\"b is greater then a\")\n",
    "else:\n",
    "    print(\"a is equal to b\")"
   ]
  },
  {
   "cell_type": "markdown",
   "id": "3c6baa6c-8b69-4657-a129-21c62452f34e",
   "metadata": {},
   "source": [
    "Q : Write a program for grading system."
   ]
  },
  {
   "cell_type": "code",
   "execution_count": 45,
   "id": "b9f37dde-8f58-46ab-b690-5793b4586a24",
   "metadata": {},
   "outputs": [
    {
     "name": "stdin",
     "output_type": "stream",
     "text": [
      "Enter marks :  86\n"
     ]
    },
    {
     "name": "stdout",
     "output_type": "stream",
     "text": [
      "a\n"
     ]
    }
   ],
   "source": [
    "m = int(input(\"Enter marks : \"))\n",
    "\n",
    "if m >= 80:\n",
    "    print(\"a\")\n",
    "elif m < 80 and m >= 60:\n",
    "    print(\"b\")\n",
    "elif m < 60 and m >= 40:\n",
    "    print(\"c\")\n",
    "elif m < 40 and m >= 30:\n",
    "    print(\"d\")\n",
    "else:\n",
    "    print(\"f\")"
   ]
  },
  {
   "cell_type": "markdown",
   "id": "3178428a-ab1b-4732-bb38-693aa7be6518",
   "metadata": {},
   "source": [
    "**Nexted if**"
   ]
  },
  {
   "cell_type": "markdown",
   "id": "07a6513d-5536-46ba-88e8-96dfc85a83dc",
   "metadata": {},
   "source": [
    "Q : Write a programme to output the wether the no is in tense, hundreds and thousentes"
   ]
  },
  {
   "cell_type": "code",
   "execution_count": null,
   "id": "a4ea1075-c005-4a15-9f24-25009e310c0d",
   "metadata": {},
   "outputs": [],
   "source": [
    "a = int(input(\"Enter no. : \"))\n",
    "\n",
    "if a >= 10:\n",
    "    print(\"a is bigger then 10\")\n",
    "    if a>=100:\n",
    "        print()"
   ]
  },
  {
   "cell_type": "markdown",
   "id": "fd7fff11-1458-4e97-bfb8-d047c7e54aed",
   "metadata": {},
   "source": [
    "Q : A program which take flote input and output integer value and print if it is odd or even ?"
   ]
  },
  {
   "cell_type": "code",
   "execution_count": null,
   "id": "a8ab3a1a-18aa-4848-a199-26c6a8705cc6",
   "metadata": {},
   "outputs": [],
   "source": [
    "x = flot(input(\"Enter a no. = \"))\n",
    "y = round(x)\n",
    "if "
   ]
  },
  {
   "cell_type": "markdown",
   "id": "23b89791-c71c-456f-8a17-b1de1ff386e2",
   "metadata": {},
   "source": [
    "#### Loops"
   ]
  },
  {
   "cell_type": "markdown",
   "id": "144561bb-bcd9-4f04-b194-d314bae94a37",
   "metadata": {},
   "source": [
    "**While loop**"
   ]
  },
  {
   "cell_type": "code",
   "execution_count": null,
   "id": "f940e953-6dfc-4adf-b936-24a78ac25e6a",
   "metadata": {},
   "outputs": [],
   "source": []
  },
  {
   "cell_type": "code",
   "execution_count": 2,
   "id": "aeeed1ac-c4df-4148-8225-3464cc9e4e89",
   "metadata": {},
   "outputs": [
    {
     "name": "stdin",
     "output_type": "stream",
     "text": [
      "Enter Text :  NoticedXAaryan\n",
      "Enter no. of text to be displayed :  5\n"
     ]
    },
    {
     "name": "stdout",
     "output_type": "stream",
     "text": [
      "NoticedXAaryan\n",
      "NoticedXAaryan\n",
      "NoticedXAaryan\n",
      "NoticedXAaryan\n",
      "NoticedXAaryan\n",
      "Done!\n"
     ]
    }
   ],
   "source": [
    "# To print hi n no. of time\n",
    "text = input(\"Enter Text : \")\n",
    "n = int(input(\"Enter no. of text to be displayed : \"))\n",
    "i = 0\n",
    "while n != i:\n",
    "    print(text)\n",
    "    i += 1\n",
    "print(\"Done!\")"
   ]
  },
  {
   "cell_type": "code",
   "execution_count": 4,
   "id": "df6a772e-3899-4aa7-9d25-5c27392a95f0",
   "metadata": {},
   "outputs": [
    {
     "name": "stdin",
     "output_type": "stream",
     "text": [
      "Enter range :  11\n"
     ]
    },
    {
     "name": "stdout",
     "output_type": "stream",
     "text": [
      "0\n",
      "2\n",
      "4\n",
      "6\n",
      "8\n",
      "10\n",
      "End!\n"
     ]
    }
   ],
   "source": [
    "# Write progame to output all the even no. till spacifird degit's\n",
    "\n",
    "i = 0 \n",
    "n = int( input (\"Enter range : \") )\n",
    "while i < n:\n",
    "    if i % 2 == 0:\n",
    "        print(i)\n",
    "    else :\n",
    "        pass\n",
    "    i += 1\n",
    "print(\"End!\")"
   ]
  },
  {
   "cell_type": "code",
   "execution_count": null,
   "id": "a4a368c5-536e-47d1-9622-3d3e109444d2",
   "metadata": {},
   "outputs": [],
   "source": []
  },
  {
   "cell_type": "markdown",
   "id": "6dfc0a5e-83e2-4cc7-b814-eb5eeb230a86",
   "metadata": {},
   "source": [
    "**Pass**"
   ]
  },
  {
   "cell_type": "code",
   "execution_count": null,
   "id": "ed7011a9-4d78-4912-a6ca-5b8bb2659c03",
   "metadata": {},
   "outputs": [],
   "source": []
  },
  {
   "cell_type": "markdown",
   "id": "295e7503-8c1f-4f01-a0ba-2633206aa0fc",
   "metadata": {},
   "source": [
    "**Contine**"
   ]
  },
  {
   "cell_type": "code",
   "execution_count": null,
   "id": "4ece990d-0294-4ea1-a823-7efa82a7f534",
   "metadata": {},
   "outputs": [],
   "source": []
  },
  {
   "cell_type": "markdown",
   "id": "da41d712-242a-4553-b2c0-f86df215be3e",
   "metadata": {},
   "source": [
    "**Break**"
   ]
  },
  {
   "cell_type": "code",
   "execution_count": 9,
   "id": "ce85813f-a611-4ba3-ba68-51dfba855d04",
   "metadata": {},
   "outputs": [
    {
     "name": "stdout",
     "output_type": "stream",
     "text": [
      "Odd 1\n",
      "Even 2\n",
      "Done\n"
     ]
    }
   ],
   "source": [
    "n = 10\n",
    "i = 1\n",
    "while i < n + 1 :\n",
    "    if i % 2 == 0:\n",
    "        print(\"Even\",i)\n",
    "        break\n",
    "    else:\n",
    "        print(\"Odd\",i)\n",
    "        i += 1\n",
    "print(\"Done\")"
   ]
  },
  {
   "cell_type": "markdown",
   "id": "6ffb5bc0-c409-42a7-9f68-d5038b2f89a9",
   "metadata": {},
   "source": [
    "**For loop**"
   ]
  },
  {
   "cell_type": "code",
   "execution_count": 12,
   "id": "8ddc5203-6018-4a2d-8999-f2d97ca4a872",
   "metadata": {},
   "outputs": [
    {
     "name": "stdin",
     "output_type": "stream",
     "text": [
      "Enter no of values :  5\n",
      "Enter values :  Ram\n",
      "Enter values :  Sham\n",
      "Enter values :  Lucke\n",
      "Enter values :  Ana\n",
      "Enter values :  Lucy\n"
     ]
    },
    {
     "name": "stdout",
     "output_type": "stream",
     "text": [
      "['Ram', 'Sham', 'Lucke', 'Ana', 'Lucy']\n"
     ]
    }
   ],
   "source": [
    "# A program to ceate a list \n",
    "l = []\n",
    "n = int(input(\"Enter no of values : \"))\n",
    "for i in range(n):\n",
    "    v = input(\"Enter values : \")\n",
    "    l.append(v)\n",
    "print(l)"
   ]
  },
  {
   "cell_type": "code",
   "execution_count": null,
   "id": "7e87907e-6c08-4c3f-8d9b-ef39c94ea65b",
   "metadata": {},
   "outputs": [],
   "source": []
  }
 ],
 "metadata": {
  "kernelspec": {
   "display_name": "Python 3 (ipykernel)",
   "language": "python",
   "name": "python3"
  },
  "language_info": {
   "codemirror_mode": {
    "name": "ipython",
    "version": 3
   },
   "file_extension": ".py",
   "mimetype": "text/x-python",
   "name": "python",
   "nbconvert_exporter": "python",
   "pygments_lexer": "ipython3",
   "version": "3.12.4"
  }
 },
 "nbformat": 4,
 "nbformat_minor": 5
}
